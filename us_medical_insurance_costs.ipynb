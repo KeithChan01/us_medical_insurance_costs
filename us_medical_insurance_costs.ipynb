{
  "cells": [
    {
      "cell_type": "markdown",
      "metadata": {
        "id": "dCwaTe5QoI9w"
      },
      "source": [
        "# U.S. Medical Insurance Costs"
      ]
    },
    {
      "cell_type": "code",
      "source": [
        "import csv\n",
        "import numpy as np\n",
        "import pandas as pd\n",
        "import matplotlib.pyplot as plt\n",
        "import seaborn as sns\n",
        "\n",
        "data = pd.read_csv('insurance.csv')"
      ],
      "metadata": {
        "id": "FaNvrtSGoctI"
      },
      "execution_count": 74,
      "outputs": []
    },
    {
      "cell_type": "markdown",
      "source": [
        "In this project, I plan to analyze the correlation between the age, sex, bmi, smoker, region and the charges. This analysis will include:\n",
        "\n",
        "The data broken down into 4 different regions: northeast, northwest, southeast, southwest\n",
        "\n",
        "The difference in average medical insurance cost between smokers and non-smokers\n",
        "\n",
        "The average insurance cost of different age groups: youths: 18-24 years old, young adults: 25-35 adults: 35–55 years old, and elderly: > 55 years old\n",
        "\n",
        "The relationship between the number of children and BMI. BMI Scale: underweight: < 18.5, ideal: 18.5 - 24.9, overweight: 25 - 29.9, obesity: >= 30\n",
        "\n",
        "The highest recorded medical insurance cost for the two different sexes: male and female\n",
        "\n",
        "The closest recorded medical insurance cost for patient zero: a 21 year old male, with a BMI of 27.0, who is not a smoker, lives in the northwest, and has no children"
      ],
      "metadata": {
        "id": "Ef68602spA9b"
      }
    },
    {
      "cell_type": "code",
      "source": [
        "data.describe(include = 'all')\n",
        "#bmi of 53.13 and 15.96 is unlikely but possible"
      ],
      "metadata": {
        "colab": {
          "base_uri": "https://localhost:8080/",
          "height": 394
        },
        "id": "LvpUCQXSqdBu",
        "outputId": "4b62c509-1145-4cb3-f68d-3f8df21b1ba6"
      },
      "execution_count": 75,
      "outputs": [
        {
          "output_type": "execute_result",
          "data": {
            "text/html": [
              "\n",
              "  <div id=\"df-e4b4ced4-9344-4b78-abd4-77da6c2689f7\">\n",
              "    <div class=\"colab-df-container\">\n",
              "      <div>\n",
              "<style scoped>\n",
              "    .dataframe tbody tr th:only-of-type {\n",
              "        vertical-align: middle;\n",
              "    }\n",
              "\n",
              "    .dataframe tbody tr th {\n",
              "        vertical-align: top;\n",
              "    }\n",
              "\n",
              "    .dataframe thead th {\n",
              "        text-align: right;\n",
              "    }\n",
              "</style>\n",
              "<table border=\"1\" class=\"dataframe\">\n",
              "  <thead>\n",
              "    <tr style=\"text-align: right;\">\n",
              "      <th></th>\n",
              "      <th>age</th>\n",
              "      <th>sex</th>\n",
              "      <th>bmi</th>\n",
              "      <th>children</th>\n",
              "      <th>smoker</th>\n",
              "      <th>region</th>\n",
              "      <th>charges</th>\n",
              "    </tr>\n",
              "  </thead>\n",
              "  <tbody>\n",
              "    <tr>\n",
              "      <th>count</th>\n",
              "      <td>1338.000000</td>\n",
              "      <td>1338</td>\n",
              "      <td>1338.000000</td>\n",
              "      <td>1338.000000</td>\n",
              "      <td>1338</td>\n",
              "      <td>1338</td>\n",
              "      <td>1338.000000</td>\n",
              "    </tr>\n",
              "    <tr>\n",
              "      <th>unique</th>\n",
              "      <td>NaN</td>\n",
              "      <td>2</td>\n",
              "      <td>NaN</td>\n",
              "      <td>NaN</td>\n",
              "      <td>2</td>\n",
              "      <td>4</td>\n",
              "      <td>NaN</td>\n",
              "    </tr>\n",
              "    <tr>\n",
              "      <th>top</th>\n",
              "      <td>NaN</td>\n",
              "      <td>male</td>\n",
              "      <td>NaN</td>\n",
              "      <td>NaN</td>\n",
              "      <td>no</td>\n",
              "      <td>southeast</td>\n",
              "      <td>NaN</td>\n",
              "    </tr>\n",
              "    <tr>\n",
              "      <th>freq</th>\n",
              "      <td>NaN</td>\n",
              "      <td>676</td>\n",
              "      <td>NaN</td>\n",
              "      <td>NaN</td>\n",
              "      <td>1064</td>\n",
              "      <td>364</td>\n",
              "      <td>NaN</td>\n",
              "    </tr>\n",
              "    <tr>\n",
              "      <th>mean</th>\n",
              "      <td>39.207025</td>\n",
              "      <td>NaN</td>\n",
              "      <td>30.663397</td>\n",
              "      <td>1.094918</td>\n",
              "      <td>NaN</td>\n",
              "      <td>NaN</td>\n",
              "      <td>13270.422265</td>\n",
              "    </tr>\n",
              "    <tr>\n",
              "      <th>std</th>\n",
              "      <td>14.049960</td>\n",
              "      <td>NaN</td>\n",
              "      <td>6.098187</td>\n",
              "      <td>1.205493</td>\n",
              "      <td>NaN</td>\n",
              "      <td>NaN</td>\n",
              "      <td>12110.011237</td>\n",
              "    </tr>\n",
              "    <tr>\n",
              "      <th>min</th>\n",
              "      <td>18.000000</td>\n",
              "      <td>NaN</td>\n",
              "      <td>15.960000</td>\n",
              "      <td>0.000000</td>\n",
              "      <td>NaN</td>\n",
              "      <td>NaN</td>\n",
              "      <td>1121.873900</td>\n",
              "    </tr>\n",
              "    <tr>\n",
              "      <th>25%</th>\n",
              "      <td>27.000000</td>\n",
              "      <td>NaN</td>\n",
              "      <td>26.296250</td>\n",
              "      <td>0.000000</td>\n",
              "      <td>NaN</td>\n",
              "      <td>NaN</td>\n",
              "      <td>4740.287150</td>\n",
              "    </tr>\n",
              "    <tr>\n",
              "      <th>50%</th>\n",
              "      <td>39.000000</td>\n",
              "      <td>NaN</td>\n",
              "      <td>30.400000</td>\n",
              "      <td>1.000000</td>\n",
              "      <td>NaN</td>\n",
              "      <td>NaN</td>\n",
              "      <td>9382.033000</td>\n",
              "    </tr>\n",
              "    <tr>\n",
              "      <th>75%</th>\n",
              "      <td>51.000000</td>\n",
              "      <td>NaN</td>\n",
              "      <td>34.693750</td>\n",
              "      <td>2.000000</td>\n",
              "      <td>NaN</td>\n",
              "      <td>NaN</td>\n",
              "      <td>16639.912515</td>\n",
              "    </tr>\n",
              "    <tr>\n",
              "      <th>max</th>\n",
              "      <td>64.000000</td>\n",
              "      <td>NaN</td>\n",
              "      <td>53.130000</td>\n",
              "      <td>5.000000</td>\n",
              "      <td>NaN</td>\n",
              "      <td>NaN</td>\n",
              "      <td>63770.428010</td>\n",
              "    </tr>\n",
              "  </tbody>\n",
              "</table>\n",
              "</div>\n",
              "      <button class=\"colab-df-convert\" onclick=\"convertToInteractive('df-e4b4ced4-9344-4b78-abd4-77da6c2689f7')\"\n",
              "              title=\"Convert this dataframe to an interactive table.\"\n",
              "              style=\"display:none;\">\n",
              "        \n",
              "  <svg xmlns=\"http://www.w3.org/2000/svg\" height=\"24px\"viewBox=\"0 0 24 24\"\n",
              "       width=\"24px\">\n",
              "    <path d=\"M0 0h24v24H0V0z\" fill=\"none\"/>\n",
              "    <path d=\"M18.56 5.44l.94 2.06.94-2.06 2.06-.94-2.06-.94-.94-2.06-.94 2.06-2.06.94zm-11 1L8.5 8.5l.94-2.06 2.06-.94-2.06-.94L8.5 2.5l-.94 2.06-2.06.94zm10 10l.94 2.06.94-2.06 2.06-.94-2.06-.94-.94-2.06-.94 2.06-2.06.94z\"/><path d=\"M17.41 7.96l-1.37-1.37c-.4-.4-.92-.59-1.43-.59-.52 0-1.04.2-1.43.59L10.3 9.45l-7.72 7.72c-.78.78-.78 2.05 0 2.83L4 21.41c.39.39.9.59 1.41.59.51 0 1.02-.2 1.41-.59l7.78-7.78 2.81-2.81c.8-.78.8-2.07 0-2.86zM5.41 20L4 18.59l7.72-7.72 1.47 1.35L5.41 20z\"/>\n",
              "  </svg>\n",
              "      </button>\n",
              "      \n",
              "  <style>\n",
              "    .colab-df-container {\n",
              "      display:flex;\n",
              "      flex-wrap:wrap;\n",
              "      gap: 12px;\n",
              "    }\n",
              "\n",
              "    .colab-df-convert {\n",
              "      background-color: #E8F0FE;\n",
              "      border: none;\n",
              "      border-radius: 50%;\n",
              "      cursor: pointer;\n",
              "      display: none;\n",
              "      fill: #1967D2;\n",
              "      height: 32px;\n",
              "      padding: 0 0 0 0;\n",
              "      width: 32px;\n",
              "    }\n",
              "\n",
              "    .colab-df-convert:hover {\n",
              "      background-color: #E2EBFA;\n",
              "      box-shadow: 0px 1px 2px rgba(60, 64, 67, 0.3), 0px 1px 3px 1px rgba(60, 64, 67, 0.15);\n",
              "      fill: #174EA6;\n",
              "    }\n",
              "\n",
              "    [theme=dark] .colab-df-convert {\n",
              "      background-color: #3B4455;\n",
              "      fill: #D2E3FC;\n",
              "    }\n",
              "\n",
              "    [theme=dark] .colab-df-convert:hover {\n",
              "      background-color: #434B5C;\n",
              "      box-shadow: 0px 1px 3px 1px rgba(0, 0, 0, 0.15);\n",
              "      filter: drop-shadow(0px 1px 2px rgba(0, 0, 0, 0.3));\n",
              "      fill: #FFFFFF;\n",
              "    }\n",
              "  </style>\n",
              "\n",
              "      <script>\n",
              "        const buttonEl =\n",
              "          document.querySelector('#df-e4b4ced4-9344-4b78-abd4-77da6c2689f7 button.colab-df-convert');\n",
              "        buttonEl.style.display =\n",
              "          google.colab.kernel.accessAllowed ? 'block' : 'none';\n",
              "\n",
              "        async function convertToInteractive(key) {\n",
              "          const element = document.querySelector('#df-e4b4ced4-9344-4b78-abd4-77da6c2689f7');\n",
              "          const dataTable =\n",
              "            await google.colab.kernel.invokeFunction('convertToInteractive',\n",
              "                                                     [key], {});\n",
              "          if (!dataTable) return;\n",
              "\n",
              "          const docLinkHtml = 'Like what you see? Visit the ' +\n",
              "            '<a target=\"_blank\" href=https://colab.research.google.com/notebooks/data_table.ipynb>data table notebook</a>'\n",
              "            + ' to learn more about interactive tables.';\n",
              "          element.innerHTML = '';\n",
              "          dataTable['output_type'] = 'display_data';\n",
              "          await google.colab.output.renderOutput(dataTable, element);\n",
              "          const docLink = document.createElement('div');\n",
              "          docLink.innerHTML = docLinkHtml;\n",
              "          element.appendChild(docLink);\n",
              "        }\n",
              "      </script>\n",
              "    </div>\n",
              "  </div>\n",
              "  "
            ],
            "text/plain": [
              "                age   sex          bmi  ...  smoker     region       charges\n",
              "count   1338.000000  1338  1338.000000  ...    1338       1338   1338.000000\n",
              "unique          NaN     2          NaN  ...       2          4           NaN\n",
              "top             NaN  male          NaN  ...      no  southeast           NaN\n",
              "freq            NaN   676          NaN  ...    1064        364           NaN\n",
              "mean      39.207025   NaN    30.663397  ...     NaN        NaN  13270.422265\n",
              "std       14.049960   NaN     6.098187  ...     NaN        NaN  12110.011237\n",
              "min       18.000000   NaN    15.960000  ...     NaN        NaN   1121.873900\n",
              "25%       27.000000   NaN    26.296250  ...     NaN        NaN   4740.287150\n",
              "50%       39.000000   NaN    30.400000  ...     NaN        NaN   9382.033000\n",
              "75%       51.000000   NaN    34.693750  ...     NaN        NaN  16639.912515\n",
              "max       64.000000   NaN    53.130000  ...     NaN        NaN  63770.428010\n",
              "\n",
              "[11 rows x 7 columns]"
            ]
          },
          "metadata": {},
          "execution_count": 75
        }
      ]
    },
    {
      "cell_type": "code",
      "source": [
        "data.head()"
      ],
      "metadata": {
        "colab": {
          "base_uri": "https://localhost:8080/",
          "height": 206
        },
        "id": "LUWcXoKUxq78",
        "outputId": "e40a4728-c77e-41fc-d0c6-750e4bacc081"
      },
      "execution_count": 76,
      "outputs": [
        {
          "output_type": "execute_result",
          "data": {
            "text/html": [
              "\n",
              "  <div id=\"df-fea4cb72-6950-422e-b824-81b309970623\">\n",
              "    <div class=\"colab-df-container\">\n",
              "      <div>\n",
              "<style scoped>\n",
              "    .dataframe tbody tr th:only-of-type {\n",
              "        vertical-align: middle;\n",
              "    }\n",
              "\n",
              "    .dataframe tbody tr th {\n",
              "        vertical-align: top;\n",
              "    }\n",
              "\n",
              "    .dataframe thead th {\n",
              "        text-align: right;\n",
              "    }\n",
              "</style>\n",
              "<table border=\"1\" class=\"dataframe\">\n",
              "  <thead>\n",
              "    <tr style=\"text-align: right;\">\n",
              "      <th></th>\n",
              "      <th>age</th>\n",
              "      <th>sex</th>\n",
              "      <th>bmi</th>\n",
              "      <th>children</th>\n",
              "      <th>smoker</th>\n",
              "      <th>region</th>\n",
              "      <th>charges</th>\n",
              "    </tr>\n",
              "  </thead>\n",
              "  <tbody>\n",
              "    <tr>\n",
              "      <th>0</th>\n",
              "      <td>19</td>\n",
              "      <td>female</td>\n",
              "      <td>27.900</td>\n",
              "      <td>0</td>\n",
              "      <td>yes</td>\n",
              "      <td>southwest</td>\n",
              "      <td>16884.92400</td>\n",
              "    </tr>\n",
              "    <tr>\n",
              "      <th>1</th>\n",
              "      <td>18</td>\n",
              "      <td>male</td>\n",
              "      <td>33.770</td>\n",
              "      <td>1</td>\n",
              "      <td>no</td>\n",
              "      <td>southeast</td>\n",
              "      <td>1725.55230</td>\n",
              "    </tr>\n",
              "    <tr>\n",
              "      <th>2</th>\n",
              "      <td>28</td>\n",
              "      <td>male</td>\n",
              "      <td>33.000</td>\n",
              "      <td>3</td>\n",
              "      <td>no</td>\n",
              "      <td>southeast</td>\n",
              "      <td>4449.46200</td>\n",
              "    </tr>\n",
              "    <tr>\n",
              "      <th>3</th>\n",
              "      <td>33</td>\n",
              "      <td>male</td>\n",
              "      <td>22.705</td>\n",
              "      <td>0</td>\n",
              "      <td>no</td>\n",
              "      <td>northwest</td>\n",
              "      <td>21984.47061</td>\n",
              "    </tr>\n",
              "    <tr>\n",
              "      <th>4</th>\n",
              "      <td>32</td>\n",
              "      <td>male</td>\n",
              "      <td>28.880</td>\n",
              "      <td>0</td>\n",
              "      <td>no</td>\n",
              "      <td>northwest</td>\n",
              "      <td>3866.85520</td>\n",
              "    </tr>\n",
              "  </tbody>\n",
              "</table>\n",
              "</div>\n",
              "      <button class=\"colab-df-convert\" onclick=\"convertToInteractive('df-fea4cb72-6950-422e-b824-81b309970623')\"\n",
              "              title=\"Convert this dataframe to an interactive table.\"\n",
              "              style=\"display:none;\">\n",
              "        \n",
              "  <svg xmlns=\"http://www.w3.org/2000/svg\" height=\"24px\"viewBox=\"0 0 24 24\"\n",
              "       width=\"24px\">\n",
              "    <path d=\"M0 0h24v24H0V0z\" fill=\"none\"/>\n",
              "    <path d=\"M18.56 5.44l.94 2.06.94-2.06 2.06-.94-2.06-.94-.94-2.06-.94 2.06-2.06.94zm-11 1L8.5 8.5l.94-2.06 2.06-.94-2.06-.94L8.5 2.5l-.94 2.06-2.06.94zm10 10l.94 2.06.94-2.06 2.06-.94-2.06-.94-.94-2.06-.94 2.06-2.06.94z\"/><path d=\"M17.41 7.96l-1.37-1.37c-.4-.4-.92-.59-1.43-.59-.52 0-1.04.2-1.43.59L10.3 9.45l-7.72 7.72c-.78.78-.78 2.05 0 2.83L4 21.41c.39.39.9.59 1.41.59.51 0 1.02-.2 1.41-.59l7.78-7.78 2.81-2.81c.8-.78.8-2.07 0-2.86zM5.41 20L4 18.59l7.72-7.72 1.47 1.35L5.41 20z\"/>\n",
              "  </svg>\n",
              "      </button>\n",
              "      \n",
              "  <style>\n",
              "    .colab-df-container {\n",
              "      display:flex;\n",
              "      flex-wrap:wrap;\n",
              "      gap: 12px;\n",
              "    }\n",
              "\n",
              "    .colab-df-convert {\n",
              "      background-color: #E8F0FE;\n",
              "      border: none;\n",
              "      border-radius: 50%;\n",
              "      cursor: pointer;\n",
              "      display: none;\n",
              "      fill: #1967D2;\n",
              "      height: 32px;\n",
              "      padding: 0 0 0 0;\n",
              "      width: 32px;\n",
              "    }\n",
              "\n",
              "    .colab-df-convert:hover {\n",
              "      background-color: #E2EBFA;\n",
              "      box-shadow: 0px 1px 2px rgba(60, 64, 67, 0.3), 0px 1px 3px 1px rgba(60, 64, 67, 0.15);\n",
              "      fill: #174EA6;\n",
              "    }\n",
              "\n",
              "    [theme=dark] .colab-df-convert {\n",
              "      background-color: #3B4455;\n",
              "      fill: #D2E3FC;\n",
              "    }\n",
              "\n",
              "    [theme=dark] .colab-df-convert:hover {\n",
              "      background-color: #434B5C;\n",
              "      box-shadow: 0px 1px 3px 1px rgba(0, 0, 0, 0.15);\n",
              "      filter: drop-shadow(0px 1px 2px rgba(0, 0, 0, 0.3));\n",
              "      fill: #FFFFFF;\n",
              "    }\n",
              "  </style>\n",
              "\n",
              "      <script>\n",
              "        const buttonEl =\n",
              "          document.querySelector('#df-fea4cb72-6950-422e-b824-81b309970623 button.colab-df-convert');\n",
              "        buttonEl.style.display =\n",
              "          google.colab.kernel.accessAllowed ? 'block' : 'none';\n",
              "\n",
              "        async function convertToInteractive(key) {\n",
              "          const element = document.querySelector('#df-fea4cb72-6950-422e-b824-81b309970623');\n",
              "          const dataTable =\n",
              "            await google.colab.kernel.invokeFunction('convertToInteractive',\n",
              "                                                     [key], {});\n",
              "          if (!dataTable) return;\n",
              "\n",
              "          const docLinkHtml = 'Like what you see? Visit the ' +\n",
              "            '<a target=\"_blank\" href=https://colab.research.google.com/notebooks/data_table.ipynb>data table notebook</a>'\n",
              "            + ' to learn more about interactive tables.';\n",
              "          element.innerHTML = '';\n",
              "          dataTable['output_type'] = 'display_data';\n",
              "          await google.colab.output.renderOutput(dataTable, element);\n",
              "          const docLink = document.createElement('div');\n",
              "          docLink.innerHTML = docLinkHtml;\n",
              "          element.appendChild(docLink);\n",
              "        }\n",
              "      </script>\n",
              "    </div>\n",
              "  </div>\n",
              "  "
            ],
            "text/plain": [
              "   age     sex     bmi  children smoker     region      charges\n",
              "0   19  female  27.900         0    yes  southwest  16884.92400\n",
              "1   18    male  33.770         1     no  southeast   1725.55230\n",
              "2   28    male  33.000         3     no  southeast   4449.46200\n",
              "3   33    male  22.705         0     no  northwest  21984.47061\n",
              "4   32    male  28.880         0     no  northwest   3866.85520"
            ]
          },
          "metadata": {},
          "execution_count": 76
        }
      ]
    },
    {
      "cell_type": "code",
      "source": [
        "data.shape"
      ],
      "metadata": {
        "colab": {
          "base_uri": "https://localhost:8080/"
        },
        "id": "QJZHEoCXxzZn",
        "outputId": "fb579b3a-0838-4b9b-b0e5-066e2450249a"
      },
      "execution_count": 77,
      "outputs": [
        {
          "output_type": "execute_result",
          "data": {
            "text/plain": [
              "(1338, 7)"
            ]
          },
          "metadata": {},
          "execution_count": 77
        }
      ]
    },
    {
      "cell_type": "code",
      "source": [
        "data.columns"
      ],
      "metadata": {
        "colab": {
          "base_uri": "https://localhost:8080/"
        },
        "id": "UXnzN0vzx2Nn",
        "outputId": "6fec181d-af0a-4bc6-943c-1c6dcdf8b8e7"
      },
      "execution_count": 78,
      "outputs": [
        {
          "output_type": "execute_result",
          "data": {
            "text/plain": [
              "Index(['age', 'sex', 'bmi', 'children', 'smoker', 'region', 'charges'], dtype='object')"
            ]
          },
          "metadata": {},
          "execution_count": 78
        }
      ]
    },
    {
      "cell_type": "code",
      "source": [
        "data.dtypes"
      ],
      "metadata": {
        "colab": {
          "base_uri": "https://localhost:8080/"
        },
        "id": "Ia5t5UQZx378",
        "outputId": "98a9804c-fd57-4a6e-f007-1777816c8fd8"
      },
      "execution_count": 79,
      "outputs": [
        {
          "output_type": "execute_result",
          "data": {
            "text/plain": [
              "age           int64\n",
              "sex          object\n",
              "bmi         float64\n",
              "children      int64\n",
              "smoker       object\n",
              "region       object\n",
              "charges     float64\n",
              "dtype: object"
            ]
          },
          "metadata": {},
          "execution_count": 79
        }
      ]
    },
    {
      "cell_type": "code",
      "source": [
        "data.info()"
      ],
      "metadata": {
        "colab": {
          "base_uri": "https://localhost:8080/"
        },
        "id": "-_bccNXpbER3",
        "outputId": "2a92ddd0-f5e9-44e0-ba1c-ac7afe660483"
      },
      "execution_count": 80,
      "outputs": [
        {
          "output_type": "stream",
          "name": "stdout",
          "text": [
            "<class 'pandas.core.frame.DataFrame'>\n",
            "RangeIndex: 1338 entries, 0 to 1337\n",
            "Data columns (total 7 columns):\n",
            " #   Column    Non-Null Count  Dtype  \n",
            "---  ------    --------------  -----  \n",
            " 0   age       1338 non-null   int64  \n",
            " 1   sex       1338 non-null   object \n",
            " 2   bmi       1338 non-null   float64\n",
            " 3   children  1338 non-null   int64  \n",
            " 4   smoker    1338 non-null   object \n",
            " 5   region    1338 non-null   object \n",
            " 6   charges   1338 non-null   float64\n",
            "dtypes: float64(2), int64(2), object(3)\n",
            "memory usage: 73.3+ KB\n"
          ]
        }
      ]
    },
    {
      "cell_type": "code",
      "source": [
        "#checking the different regions\n",
        "data.region.value_counts()"
      ],
      "metadata": {
        "colab": {
          "base_uri": "https://localhost:8080/"
        },
        "id": "sl8qB2YethgU",
        "outputId": "a4647ba3-86a5-49f0-9b6e-f01c34282899"
      },
      "execution_count": 92,
      "outputs": [
        {
          "output_type": "execute_result",
          "data": {
            "text/plain": [
              "southeast    364\n",
              "northwest    325\n",
              "southwest    325\n",
              "northeast    324\n",
              "Name: region, dtype: int64"
            ]
          },
          "metadata": {},
          "execution_count": 92
        }
      ]
    },
    {
      "cell_type": "code",
      "source": [
        "#sorting data by region\n",
        "data_by_region = data.groupby('region')\n",
        "region_data = []\n",
        "for i in data_by_region:\n",
        "  region_data.append(i[1])\n",
        "  \n",
        "ne_data = region_data[0]\n",
        "nw_data = region_data[1]\n",
        "se_data = region_data[2]\n",
        "sw_data = region_data[3]"
      ],
      "metadata": {
        "id": "Hcp6unZ7iI4K"
      },
      "execution_count": 83,
      "outputs": []
    },
    {
      "cell_type": "code",
      "source": [
        "#descriptive data by region\n",
        "\n",
        "print(ne_data.describe(include = 'all'))\n",
        "print('This is descriptive data for the northeast region.' + '\\n')\n",
        "print(nw_data.describe(include = 'all'))\n",
        "print('This is descriptive data for the northwest region.' + '\\n')\n",
        "print(se_data.describe(include = 'all'))\n",
        "print('This is descriptive data for the southeast region.' + '\\n')\n",
        "print(sw_data.describe(include = 'all'))\n",
        "print('This is descriptive data for the southwest region.')"
      ],
      "metadata": {
        "colab": {
          "base_uri": "https://localhost:8080/"
        },
        "id": "eJEUAVYQoQI1",
        "outputId": "e3bb8936-b3c6-44da-cf18-437045f89e8e"
      },
      "execution_count": 90,
      "outputs": [
        {
          "output_type": "stream",
          "name": "stdout",
          "text": [
            "               age   sex         bmi  ...  smoker     region       charges\n",
            "count   324.000000   324  324.000000  ...     324        324    324.000000\n",
            "unique         NaN     2         NaN  ...       2          1           NaN\n",
            "top            NaN  male         NaN  ...      no  northeast           NaN\n",
            "freq           NaN   163         NaN  ...     257        324           NaN\n",
            "mean     39.268519   NaN   29.173503  ...     NaN        NaN  13406.384516\n",
            "std      14.069007   NaN    5.937513  ...     NaN        NaN  11255.803066\n",
            "min      18.000000   NaN   15.960000  ...     NaN        NaN   1694.796400\n",
            "25%      27.000000   NaN   24.866250  ...     NaN        NaN   5194.322288\n",
            "50%      39.500000   NaN   28.880000  ...     NaN        NaN  10057.652025\n",
            "75%      51.000000   NaN   32.893750  ...     NaN        NaN  16687.364100\n",
            "max      64.000000   NaN   48.070000  ...     NaN        NaN  58571.074480\n",
            "\n",
            "[11 rows x 7 columns]\n",
            "This is descriptive data for the northeast region.\n",
            "\n",
            "               age     sex         bmi  ...  smoker     region       charges\n",
            "count   325.000000     325  325.000000  ...     325        325    325.000000\n",
            "unique         NaN       2         NaN  ...       2          1           NaN\n",
            "top            NaN  female         NaN  ...      no  northwest           NaN\n",
            "freq           NaN     164         NaN  ...     267        325           NaN\n",
            "mean     39.196923     NaN   29.199785  ...     NaN        NaN  12417.575374\n",
            "std      14.051646     NaN    5.136765  ...     NaN        NaN  11072.276928\n",
            "min      19.000000     NaN   17.385000  ...     NaN        NaN   1621.340200\n",
            "25%      26.000000     NaN   25.745000  ...     NaN        NaN   4719.736550\n",
            "50%      39.000000     NaN   28.880000  ...     NaN        NaN   8965.795750\n",
            "75%      51.000000     NaN   32.775000  ...     NaN        NaN  14711.743800\n",
            "max      64.000000     NaN   42.940000  ...     NaN        NaN  60021.398970\n",
            "\n",
            "[11 rows x 7 columns]\n",
            "This is descriptive data for the northwest region.\n",
            "\n",
            "               age   sex         bmi  ...  smoker     region       charges\n",
            "count   364.000000   364  364.000000  ...     364        364    364.000000\n",
            "unique         NaN     2         NaN  ...       2          1           NaN\n",
            "top            NaN  male         NaN  ...      no  southeast           NaN\n",
            "freq           NaN   189         NaN  ...     273        364           NaN\n",
            "mean     38.939560   NaN   33.355989  ...     NaN        NaN  14735.411438\n",
            "std      14.164585   NaN    6.477648  ...     NaN        NaN  13971.098589\n",
            "min      18.000000   NaN   19.800000  ...     NaN        NaN   1121.873900\n",
            "25%      26.750000   NaN   28.572500  ...     NaN        NaN   4440.886200\n",
            "50%      39.000000   NaN   33.330000  ...     NaN        NaN   9294.131950\n",
            "75%      51.000000   NaN   37.812500  ...     NaN        NaN  19526.286900\n",
            "max      64.000000   NaN   53.130000  ...     NaN        NaN  63770.428010\n",
            "\n",
            "[11 rows x 7 columns]\n",
            "This is descriptive data for the southeast region.\n",
            "\n",
            "               age   sex         bmi  ...  smoker     region       charges\n",
            "count   325.000000   325  325.000000  ...     325        325    325.000000\n",
            "unique         NaN     2         NaN  ...       2          1           NaN\n",
            "top            NaN  male         NaN  ...      no  southwest           NaN\n",
            "freq           NaN   163         NaN  ...     267        325           NaN\n",
            "mean     39.455385   NaN   30.596615  ...     NaN        NaN  12346.937377\n",
            "std      13.959886   NaN    5.691836  ...     NaN        NaN  11557.179101\n",
            "min      19.000000   NaN   17.400000  ...     NaN        NaN   1241.565000\n",
            "25%      27.000000   NaN   26.900000  ...     NaN        NaN   4751.070000\n",
            "50%      39.000000   NaN   30.300000  ...     NaN        NaN   8798.593000\n",
            "75%      51.000000   NaN   34.600000  ...     NaN        NaN  13462.520000\n",
            "max      64.000000   NaN   47.600000  ...     NaN        NaN  52590.829390\n",
            "\n",
            "[11 rows x 7 columns]\n",
            "This is descriptive data for the southwest region.\n"
          ]
        }
      ]
    },
    {
      "cell_type": "code",
      "source": [
        "#sorting data by smoker status\n",
        "\n",
        "smoker_data = data[data['smoker'] == 'yes']\n",
        "nonsmoker_data = data[data['smoker'] == 'no']\n",
        "\n",
        "\n",
        "#calculating average insurance costs\n",
        "avg_smoker_cost = round((smoker_data.charges.mean()),2)\n",
        "avg_nonsmoker_cost = round((nonsmoker_data.charges.mean()), 2)\n",
        "\n",
        "print('The average insurance cost for smokers is $' + str(avg_smoker_cost))\n",
        "print('The average insurance cost for nonsmokers is $' + str(avg_nonsmoker_cost))\n",
        "print(\n",
        "    'The difference in average insurance cost between smokers and non smokers is $' \n",
        "    + str(round((smoker_data.charges.mean() - nonsmoker_data.charges.mean()), 2))\n",
        "    )"
      ],
      "metadata": {
        "id": "_xdSwk5742Cy",
        "colab": {
          "base_uri": "https://localhost:8080/"
        },
        "outputId": "10de316c-fd51-4f95-cae9-da4259f34188"
      },
      "execution_count": 85,
      "outputs": [
        {
          "output_type": "stream",
          "name": "stdout",
          "text": [
            "The average insurance cost for smokers is $32050.23\n",
            "The average insurance cost for nonsmokers is $8434.27\n",
            "The difference in average insurance cost between smokers and non smokers is $23615.96\n"
          ]
        }
      ]
    },
    {
      "cell_type": "code",
      "source": [
        "#sorting data by age group\n",
        "\n",
        "youth_data = data[(data.age >= 18) & (data.age <= 24)]\n",
        "young_adult_data = data[(data.age >= 25) & (data.age <= 35)]\n",
        "adult_data = data[(data.age >= 36) & (data.age <= 55)]\n",
        "elderly_data = data[data.age > 55]\n",
        "\n",
        "#finding the average cost per age group\n",
        "avg_y_cost = str(round(youth_data.charges.mean(), 2))\n",
        "avg_ya_cost = str(round(young_adult_data.charges.mean(), 2))\n",
        "avg_a_cost = str(round(adult_data.charges.mean(), 2))\n",
        "avg_e_cost = str(round(elderly_data.charges.mean(), 2))\n",
        "\n",
        "print('The average insurance cost for youths is $' + avg_y_cost)\n",
        "print('The average insurance cost for young adults is $' + avg_ya_cost)\n",
        "print('The average insurance cost for adults is $' + avg_a_cost)\n",
        "print('The average insurance cost for elderly is $' + avg_e_cost)\n",
        "\n",
        "age_charges_data = pd.DataFrame(\n",
        "    {\n",
        "        'age_group' : [18, 25, 36, 56],\n",
        "        'average_charge' : [float(avg_y_cost), float(avg_ya_cost), float(avg_a_cost), float(avg_e_cost)]\n",
        "    }\n",
        ")\n",
        "sns.catplot(x = 'age_group', y = 'average_charge', kind = 'bar', data = age_charges_data).set(title = 'Overall relationship between Age and Insurance Cost')"
      ],
      "metadata": {
        "colab": {
          "base_uri": "https://localhost:8080/",
          "height": 472
        },
        "id": "anpvNiudht46",
        "outputId": "2edb8e02-5667-4fb4-8805-03f63832dba4"
      },
      "execution_count": 86,
      "outputs": [
        {
          "output_type": "stream",
          "name": "stdout",
          "text": [
            "The average insurance cost for youths is $9011.34\n",
            "The average insurance cost for young adults is $10433.03\n",
            "The average insurance cost for adults is $14785.69\n",
            "The average insurance cost for elderly is $18795.99\n"
          ]
        },
        {
          "output_type": "execute_result",
          "data": {
            "text/plain": [
              "<seaborn.axisgrid.FacetGrid at 0x7fadfd7f9d50>"
            ]
          },
          "metadata": {},
          "execution_count": 86
        },
        {
          "output_type": "display_data",
          "data": {
            "image/png": "[encoded data removed]",
            "text/plain": [
              "<Figure size 360x360 with 1 Axes>"
            ]
          },
          "metadata": {
            "needs_background": "light"
          }
        }
      ]
    },
    {
      "cell_type": "code",
      "source": [
        "#sorting data by BMI\n",
        "underweight_data = data[data['bmi'] < 18.5]\n",
        "ideal_data = data[(data['bmi'] >= 18.5) & (data['bmi'] <= 24.9)]\n",
        "overweight_data = data[(data['bmi'] >= 25) & (data['bmi'] <= 29.9)]\n",
        "obese_data = data[(data['bmi'] <= 55)]\n",
        "\n",
        "sns.catplot(x = 'children', y = 'bmi', kind = 'box', data = data).set(title = 'Overall relationship between BMI and Children')"
      ],
      "metadata": {
        "colab": {
          "base_uri": "https://localhost:8080/",
          "height": 402
        },
        "id": "8mK9mT5QHxBk",
        "outputId": "477504b8-e946-4f86-870f-f9a5e5aaa72e"
      },
      "execution_count": 87,
      "outputs": [
        {
          "output_type": "execute_result",
          "data": {
            "text/plain": [
              "<seaborn.axisgrid.FacetGrid at 0x7fadfd776450>"
            ]
          },
          "metadata": {},
          "execution_count": 87
        },
        {
          "output_type": "display_data",
          "data": {
            "image/png": "[encoded data removed]",
            "text/plain": [
              "<Figure size 360x360 with 1 Axes>"
            ]
          },
          "metadata": {
            "needs_background": "light"
          }
        }
      ]
    },
    {
      "cell_type": "code",
      "source": [
        "#sorting data by sex\n",
        "male_data = data[data['sex'] == 'male']\n",
        "female_data = data[data['sex'] == 'female']\n",
        "print('The highest recorded insurance cost for a male is $' +  str(round(max(male_data.charges))))\n",
        "print('The highest recorded insurance cost for a female is $' +  str(round(max(female_data.charges))))\n",
        "\n",
        "plt.scatter(male_data.age, male_data.charges, marker = '.', label = 'Male')\n",
        "plt.scatter(female_data.age, female_data.charges, marker = '.', label = 'Female')\n",
        "plt.xlabel('Age')\n",
        "plt.ylabel('Insurance Cost')\n",
        "plt.title('Relationship between Age and Insurance cost')\n",
        "plt.legend(frameon = True, loc = 'lower right', shadow = True, framealpha = 1, ncol = 2)"
      ],
      "metadata": {
        "id": "Y9JKMJKAMqdk",
        "colab": {
          "base_uri": "https://localhost:8080/",
          "height": 347
        },
        "outputId": "e88a9cb8-7088-473e-dfa8-633552d5047e"
      },
      "execution_count": 88,
      "outputs": [
        {
          "output_type": "stream",
          "name": "stdout",
          "text": [
            "The highest recorded insurance cost for a male is $62593\n",
            "The highest recorded insurance cost for a female is $63770\n"
          ]
        },
        {
          "output_type": "execute_result",
          "data": {
            "text/plain": [
              "<matplotlib.legend.Legend at 0x7fae0f005950>"
            ]
          },
          "metadata": {},
          "execution_count": 88
        },
        {
          "output_type": "display_data",
          "data": {
            "image/png": "[encoded data removed]",
            "text/plain": [
              "<Figure size 432x288 with 1 Axes>"
            ]
          },
          "metadata": {
            "needs_background": "light"
          }
        }
      ]
    },
    {
      "cell_type": "code",
      "source": [
        "#finding the closest recorded insurance cost for patient zero\n",
        "patient_zero_data = data[\n",
        "                         (data['age'] == 21) & \n",
        "                         ((data['bmi'] < 30) & (data['bmi'] >= 27)) &\n",
        "                         (data['sex'] == 'male') & \n",
        "                         (data['smoker'] == 'no') &\n",
        "                         (data['children'] == 0) & \n",
        "                         (data['region'] == 'northwest')\n",
        "]\n",
        "print(patient_zero_data)\n",
        "print('The closest and most relevant recorded insurance cost is $1906.36')"
      ],
      "metadata": {
        "colab": {
          "base_uri": "https://localhost:8080/"
        },
        "id": "me8KNibPpsvl",
        "outputId": "d8592b07-b32f-40fa-be3e-43d59781e678"
      },
      "execution_count": 89,
      "outputs": [
        {
          "output_type": "stream",
          "name": "stdout",
          "text": [
            "     age   sex     bmi  children smoker     region     charges\n",
            "751   21  male  28.975         0     no  northwest  1906.35825\n",
            "The closest and most relevant recorded insurance cost is $1906.36\n"
          ]
        }
      ]
    }
  ],
  "metadata": {
    "kernelspec": {
      "display_name": "Python 3",
      "language": "python",
      "name": "python3"
    },
    "language_info": {
      "codemirror_mode": {
        "name": "ipython",
        "version": 3
      },
      "file_extension": ".py",
      "mimetype": "text/x-python",
      "name": "python",
      "nbconvert_exporter": "python",
      "pygments_lexer": "ipython3",
      "version": "3.7.6"
    },
    "colab": {
      "name": "us-medical-insurance-costs.ipynb",
      "provenance": []
    }
  },
  "nbformat": 4,
  "nbformat_minor": 0
}